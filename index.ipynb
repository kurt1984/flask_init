{
  "cells": [
    {
      "cell_type": "markdown",
      "metadata": {
        "id": "zi7gCDRLdoE6"
      },
      "source": [
        "# Flask Project Lab"
      ]
    },
    {
      "cell_type": "markdown",
      "metadata": {
        "id": "gDWPs-ntdoE8"
      },
      "source": [
        "### Introduction"
      ]
    },
    {
      "cell_type": "markdown",
      "metadata": {
        "id": "qIrNGObwdoE8"
      },
      "source": [
        "One of the best ways to become more familiar with Flask, is to build your own flask api from scratch.  Let's outline some of the steps to doing this."
      ]
    },
    {
      "cell_type": "markdown",
      "metadata": {
        "id": "9ZZ-SeImdoE8"
      },
      "source": [
        "### Steps involved\n",
        "\n",
        "Begin by choosing a csv file, and it's probably easiest to work with one that would have a single table -- like movies, or schools.  You can see how to copy only a subset of the columns [here](https://stackoverflow.com/questions/12618232/copy-a-few-of-the-columns-of-a-csv-file-into-a-table).\n",
        "\n",
        "0. Setup github\n",
        "* Make a git repository both in the folder, and setup a repository on github.\n",
        " \n",
        "1. Setup the database\n",
        "\n",
        "* Create a new feature branch in git to do the following work.\n",
        "* Create a corresponding table, and write sql script containing the CREATE TABLE statement in a migrations folder. \n",
        "* Load the data into a postgres database, as we showed how to do in other readings.\n",
        "* Make a git commit.  \n",
        "* Next connect to the postgres database, and confirm we can select from the table.\n",
        "* Make a git commit.  Then push the branch to github.  And then merge the branch into the main/master branch.\n",
        "\n",
        "2. Setup flask\n",
        "\n",
        "Now we should setup flask.  \n",
        "\n",
        "* Create a new feature branch off of the main branch.\n",
        "\n",
        "* You may want to create the corresponding forlders first.  Reference the [organizing code lab](https://github.com/eng-6-22/organizing-code-lab/tree/main/backend) to see what is needed.\n",
        "* Then create the routes, and make sure you can get them to return an initial value (hello world) is fine.  You'll want routes to both show a single entity (eg. /players/1), and all of the entities for a resource (eg. /players).  \n",
        "* Make a git commit.\n",
        "* You may want to next connect to the code to the database -- send back data from the database for each of the corresponding routes (as json).\n",
        "* Migrate to using a `settings.py` file and a .env file for connecting to the database. \n",
        "* Make a git commit. Then push the branch to github.  And then merge the branch into the main/master branch.\n",
        "\n",
        "3. Now add in the models\n",
        "\n",
        "* Create a new feature branch off of the main branch.\n",
        "* You should have a model/class for each of the tables in the database.\n",
        "* Create a `console.py` file so that you can work with the models.\n",
        "* Make a git commit \n",
        "* Create an initial test to verify that you can create an instance of the class.\n",
        "* Make a git commit \n",
        "* Instead of sending back data directly from the database, create an instance for each record in the database, send back json with keys and values from each of the routes.\n",
        "* Make a git commit. Then push the branch to github.  And then merge the branch into the main/master branch.\n",
        "\n",
        "### Bonus\n",
        "* Add additional tests to your code\n",
        "* Add class methods to your models [as explained here](https://colab.research.google.com/github/data-eng-10-21/class-functions-reading/blob/master/index.ipynb).\n",
        "* Is there a way to set up query parameters in your Flask API?\n"
      ]
    },
    {
      "cell_type": "markdown",
      "metadata": {
        "id": "H5Seeqn1doE9"
      },
      "source": []
    }
  ],
  "metadata": {
    "language_info": {
      "name": "python"
    },
    "orig_nbformat": 4,
    "colab": {
      "provenance": []
    }
  },
  "nbformat": 4,
  "nbformat_minor": 0
}